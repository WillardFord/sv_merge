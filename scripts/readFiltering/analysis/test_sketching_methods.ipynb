{
 "cells": [
  {
   "cell_type": "markdown",
   "metadata": {},
   "source": [
    "# Test Sketching Methods"
   ]
  },
  {
   "cell_type": "markdown",
   "metadata": {},
   "source": [
    "Incredibly useful bug fixing. Verified each step of pipeline through manual checking and comparing outputs to slower correct methods.\n",
    "\n",
    "The y = x plots could be useful as a poster figure. "
   ]
  },
  {
   "cell_type": "markdown",
   "metadata": {},
   "source": [
    "## Test Loading in Seqs"
   ]
  },
  {
   "cell_type": "code",
   "execution_count": 3,
   "metadata": {},
   "outputs": [],
   "source": [
    "import os\n",
    "import subprocess\n",
    "from Bio.Seq import Seq\n",
    "import numpy as np\n",
    "from collections import defaultdict\n",
    "import matplotlib.pyplot as plt\n",
    "from itertools import repeat"
   ]
  },
  {
   "cell_type": "code",
   "execution_count": 4,
   "metadata": {},
   "outputs": [],
   "source": [
    "def readFastq(fastqFile:str):\n",
    "    seqs :list[str] = []\n",
    "    labels :list[str] = []\n",
    "    with open(fastqFile,\"r\") as f:\n",
    "        i = 0\n",
    "        curHap = -1\n",
    "        for line in f.readlines():\n",
    "            if i % 4 == 0:\n",
    "                for segment in line.strip().split(\" \"):\n",
    "                    if segment.startswith(\"HP\"):\n",
    "                        curHap = segment.split(\":\")[-1]\n",
    "            elif i % 4 == 1:\n",
    "                if curHap == -1:\n",
    "                    continue\n",
    "                curSeq = line.strip()\n",
    "                seqs.append(curSeq)\n",
    "                labels.append(curHap)\n",
    "                curHap = -1\n",
    "                curSeq = \"\"\n",
    "            i += 1\n",
    "    return seqs, labels"
   ]
  },
  {
   "cell_type": "markdown",
   "metadata": {},
   "source": [
    "chr1_6427050-6427510.fastq\n",
    "\n",
    "\n",
    "chr1_7905147-7905547.fastq"
   ]
  },
  {
   "cell_type": "code",
   "execution_count": 9,
   "metadata": {},
   "outputs": [
    {
     "name": "stdout",
     "output_type": "stream",
     "text": [
      "20\n"
     ]
    },
    {
     "data": {
      "text/plain": [
       "(('TTGAAGGTGGAATGGAGGCCCCCGCTCATCCTCCCGGCCCCCTCGCTGCGGTCCTCCCGCTCATCCTCCCGGCCCCCTCGCTGCGGTCCTCCCGCTCATCCTCCCGGCCCCCTCGCTGCGGTCCTCCCGCTCATCCTCCCGGCCCCCTCGCTGCGGTCCTCCCGCTCATCCTCCCGGCCCCCTCGCTGCGGTCCTCCCGCTCATCCTCCCGGCCCCCTCGCTGCGGTCCTCCCGCTCATCCTCCCGGCCCCCTCGCTGCGGTCCTCCCGCTCATCCTCCCGGCCCCCTCGCTGCGGTCCTCTCTGCCACTGTGGATGGGCT',\n",
       "  'TTGAAGGTGGAATGGAGGCCCCCGCTCATCCTCCCGGCCCCCTCCGCTGCGGTCCTCCCGCTCATCCTCCCGGCCCCCCTCGCTGCGGTCCTCCCGCTCATCCTCCCGGCCCCCTCGCTGCGGTCCTCCGCTCATCCTCCGGCCCTCGCTGCGGTCCTCCCGTCTCCTCCGGCCCCTCGCTGCGGTCCTCGCTCATCCTCCCGGCCCTCGCTGCGGTCCTCCGCTCATCCTCCCGGCCCCCTCGCTGCGGTCCTCCCCGCTCATCCTCCCGGCCCCCTCGCTGCGGTCCTCTCTGCCACTGTGGATGGGCT',\n",
       "  'TTGAAGGTGGAATGGAGGCCCCCGCTCATCCTCCCGGCCCCCTCGCTGCGGTCCTCCCGCTCATCCTCCCGGCCCCCTCGCTGCGGTCCCTCCCGCTCATCCTCCCGGCCCCCTCGCTGCGGTCCTCCCGCTCATCCTCCCGGCCCCCTCGCTGCGGTCCTCCCGCTCATCCTCCCGGCCCCCTCGCTGCGGTCCTCCCGCTCATCCTCCCGGCCCCCTCGCTGCGGTCCTCCCGCTCATCCTCCCGGCCCCCTCGCTGCGGTCCTCCCGCTCATCCTCCCGGCCCCCTCGCTGCGGTCCTCTCTGCCACTGTGGATGGGCT',\n",
       "  'TTGAAGGTGGAATGGAGGCCCCCGCTCATCCTCCCGGCCCCCTCGCTGCGGTCCTCCCGCTCATCCTCCCGGCCCCCCTCGCTGCGGTCCTCCCGCTCATCCTCCCGGCCCCCTCGCTGCGGTCCTCCCGCTCATCCTCCCGGCCCCCTCGCTGCGGTCCTCCCGCTCATCCTCCCGGCCCCCCTCGCTGCGGTCCTCCCGCTCATCCTCCCGGCCCCCTCGCTGCGGTCCTCCCGCTCATCCTCCCGGCCCCCTCGCTGCGGTCCTCCCGCTCATCCTCCCGGCCCCCTCGCTGCGGTCCCTCTCTGCCACTGTGGATGGGCT',\n",
       "  'TTGAAGGTGGAATGGAGGCCCCCGCTCATCCTCCCGGCCCCCTCGCTGCGGTCCTCCCGCTCATCCTCCCGGCCCCCTCGCTGCGGTCCTCCCGCTCATCCTCCCGGCCCCCTCGCTGCGGTCCTCCCGCTCATCCTCCCGGCCCCCTCGCTGCGGTCCTCCCGCTCATCCTCCCGGCCCCCTCGCTGCGGTCCTCCCGCTCATCCTCCCGGCCCCCTCGCTGCGGTCCTCCCGCTCATCCTCCCGGCCCCCTCGCTGCGGTCCTCCCGCTCATCCTCCCGGCCCCCTCGCTGCGGTCCTCTCTGCCACTGTGGATGGGCT',\n",
       "  'TTGAAGGTGGAATGGAGGCCCCCGCTCATCCTCCCGGCCCCCTCGCTGCGGTCCTCCCGCTCATCCTCCCGGCCCCCTCGCTGCGGTCCTCCCCGCTCATCCTCCCGGCCCCCTCGCTGCGGTCCTCCGCTCATCCTCCCGGCCCCCTCGCTGCGGTCCCTCCCGCTCATCCTCCCGGCCCCCCTCGCTGCGGTCCTCCCCGCTCATCCTCCCGGCCCCCTCGCTGCGGTCCTCCCGCTCATCCTCCCGGCCCCCTCGCTGCGGTCCTCCCGCTCATCCTCCCGGCCCCCTCGCTGCGGTCCTCTCTGCCACTGTGGATGGGCT',\n",
       "  'TTGAAGGTGGAATGGAGGCCCCCGCTCATCCTCCCGGCCCCCTCGCTGCGGTCCTCCCGCTCATCCTCCCGGCCCCCTCGCTGCGGTCCTCCCGCTCATCCTCCCGGCCCCCTCGCTGCGGTCCTCCCGCTCATCCTCCCGGCCCCCTCGCTGCGGTCCTCCCGCTCATCCTCCCGGCCCCCTCGCTGCGGTCCTCCCGCTCATCCTCCCGGCCCCCTCGCTGCGGTCCTCCCGCTCATCCTCCCGGCCCCCTCGCTGCGGTCCTCCCGCTCATCCTCCCGGCCCCCTCGCTGCGGTCCTCTCTGCCACTGTGGATGGGCT',\n",
       "  'TTGAAGGTGGAATGGAGGCCCCCGCTCATCCTCCCGGCCCCCTCGCTGCGGTCCTCCCGCTCATCCTCCCGGCCCCCTCGCTGCGGTCCTCCCGCTCATCCTCCCGGCCCCCTCGCTGCGGTCCTCCCGCTCATCCTCCCGGCCCCCCTCGCTGCGGTCCTCCCGCTCATCCTCCCGGCCCCCTCGCTGCGGTCCTCCCGCTCATCCTCCCGGCCCCCTCGCTGCGGTCCTCCCGCTCATCCTCCCGGCCCCCTCGCTGCGGTCCTCCCGCTCATCCTCCCGGCCCCCTCGCTGCGGTCCTCTCTGCCACTGTGGATGGGCT',\n",
       "  'TTGAAGGTGGAATGGAGGCCCCCGCTCATCCTCCCGGCCCCCTCGCTGCGGTCCTCCCGCTCATCCTCCCGGCCCCCTCGCTGCGGTCCTCCCGCTCATCCTCCCGGCCCCCTCGCTGCGGTCCTCCCGCTCATCCTCCCGGCCCCCTCGCTGCGGTCCTCCCGCTCATCCTCCCGGCCCCTCGCTGCGGTCCTCCCGCTCATCCTCCCGGCCCCCTCGCTGCGGTCCTCCCGCTCATCCTCCCGGCCCCCTCGCTGCGGTCCTCCCCGCTCATCCTCCCGGCCCCCTCGCTGCGGTCCTCTCTGCCACTGTGGATGGGCT',\n",
       "  'TTGAAGGTGGAATGGAGGCCCCCGCTCATCCTCCCGGCCCCCTCGCTGCGGTCCTCCCGCTCATCCTCCCGGCCCCCTCGCTGCGGTCCTCCCGCTCATCCTCCCGGCCCCCTCGCTGCGGTCCTCCCGCTCATCCTCCCGGCCCCCTCGCTGCGGTCCTCCCGCTCATCCTCCCGGCCCCCTCGCTGCGGTCCTCCCGCTCATCCTCCCGGCCCCCTCGCTGCGGTCCTCCCGCTCATCCTCCCGGCCCCCTCGCTGCGGTCCTCCCGCTCATCCTCCCGGCCCCCTCGCTGCGGTCCTCTCTGCCACTGTGGATGGGCT',\n",
       "  'TTGAAGGTGGAATGGAGGCCCCCGCTCATCCTCCCGGCCCCCTCGCTGCGGTCCTCCCGCTCATCCTCCCGGCCCCCTCGCTGCGGTCCTCCCGCTCATCCTCCCGGCCCCCTCGCTGCGGTCCTCCCGCTCATCCTCCCGGCCCCCTCGCTGCGGTCCTCCGCTCATCCTCCCGGCCCCCTCGCTGCGGTCCTCCCGCTCATCCTCCCGGCCCCCTCGCTGCGGTCCTCCCGCTCATCCTCCCGGCCCCCTCGCTGCGGTCCTCCCGCTCATCCTCCCGGCCCCCTCGCTGCGGTCCTCTCTGCCACTGTGGATGGGCT',\n",
       "  'TTGAAGGTGGATTGGAGGCCCCCGCTCATCCTCCCGGCCCCCTCGCTGCGGTCCTCCCGCTCATCCTCCCGGCCCCCTCGCTGCGGTCCTCCCGCTCATCCTCCCGGCCCCCTCGCTGCGGTCCTCCCGCTCATCCTCCCGGCCCCCTCGCTGCGGTCCTCCCGCTCATCCTCCCGGCCCCCCTCGCTGCGGTCCTCCCGCTCATCCTCCGGCCCCCTCGCTGCGGTCCTCCCGCTCATCCTCCCGGCCCCCTCGCTGCGGTCCTCTCTGCCACTGTGGATGGGCT',\n",
       "  'TTGAAGGTGGAATGGAGGCCCCCGCTCATCCTCCCGGCCCCCTCGCTGCGGTCCTCCCGCTCATCCTCCCCGGCCCCCTCGCTGCGGTCCTCCCGCTCATCCTCCCGGCCCCCTCGCTGCGGTCCTCCCGCTCATCCTCCCGGCCCCCTCGCTGCGGTCCTCCCGCTCATCCTCCCGGCCCCCTCGCTGCGGTCCTCCCGCTCATCCCTCCCGGCCCCCTCGCTGCGGTCCTCCCCGCTCATCCTCCCGGCCCCCTCGCTGCGGTCCTCTCTGCCACTGTGGATGGGCT',\n",
       "  'TTGAAGGTGGAATGGAGGCCCCCGCTCATCCTCCCGGCCCCTCGCTGCGGTCCTCCCGCTCATCACCCGGCCCCCTCGCTGCGGTCCTCCCGCTCATCCTCCCGGCCCCCTCGCTGCGGTCCTCCGCTCATCCTCCCGGCCCCCTCGCTGCGGTCCTCCCGCTCATCCTCCCGGCCCCCTCGCTGCGGTCCTCCCGCTCATCCTCCCGGCCCCCTCGCTGCGGTCCTCCCGCTCATCCTCCCGGCCCCCTCGCTGCGGTCCTCTCTGCCACTGTGGATGGGCT',\n",
       "  'TTGAAGGTGGAATGGAGGCCCCCGCTCATCCTCCCGGCCCCCTCGCTGCGGTCCTCCCGCTCATCCTCCCCGGCCCCCCTCGCTGCGGTCCCTCCCGCTCATCCTCCCGGCCCCCCTCGCTGCGGTCCTCCCGCTCATCCTCCCGGCCCCCTCGCTGCGGTCCTCCCCGCTCATCCTCCCGGCCCCCTCGCTGCGGGTCCTCCCGCTCATCCTCCCGGCCCCCTCGCTGCGGTCCTCCCCGCTCATCCTCCCGGCCCCCTCGCTGCGGTCCTCTCTGCCACTGTGGATGGGCT',\n",
       "  'TTGAAGGTGGAATGGAGGCCCCCGCTCATCCTCCCGGCCCCCTCGCTGCGGTCCTCCCGCTCATCCTCCCGGCCCCCTCGCTGCGGTCCTCCCGCTCATCCTCCCGGCCCCCTCGCTGCGGTCCTCCCGCTCATCCTCCCGGCCCCCTCGCTGCGGTCCTCCCGCTCATCCTCCCGGCCCCCTCGCTGCGGTCCTCCCGCTCATCCTCCCGGCCCCCTCGCTGCGGTCCTCCCGCTCATCCTCCCGGCCCCCTCGCTGCGGTCCTCTCTGCCACTGTGGATGGGCT',\n",
       "  'TTGAAGGTGGAATGGAGGCCCCCGCTCATCCTCCCGGCCCCCTCGCTGCGGTCCTCCCGCTCATCCTCCCGGCCCCCTCGCTGCGGTCCTCCCGCTCATCCTCCCGGCCCCCTCGCTGCGGTCCTCCCGCTCATCCTCCCGGCCCCCTCGCTGCGGTCCTCCCGCTCATCCTCCCGGCCCCCTCGCTGCGGTCCTCCCGCTCATCCTCCCGGCCCCCTCGCTGCGGTCCCTCCCGCTCATCCTCCCGGCCCCCTCGCTGCGGTCCTCTCTGCCACTGTGGATGGGCT',\n",
       "  'TTGAAGGTGGAATGGGAGGCCCCCGCTCATCCTCCCGGCCCCCTCGCTGCGGTCCTCCCCGCTCATCCTCCCGGCCCCTCGCTGCGGTCCTCCCGCTCATCCTCCCGGCCCCCTCGCTGCGGTCCTCCCGCTCATCCTCCCGGCCCCCCTCGCTGCGGTCCTCCCGCTCATCCTCCCGGCCCCCTCGCTGCGGTCCTCCCGCTCATCCTCCCGGCCCCCTCGCTGCGGTCCTCCCGCTCATCCTCCCGGCCCCCTCGCTGCGGTCCTCTCTGCCACTGTGGATGGGCT',\n",
       "  'TTGAAGGTGGAATGGAGGCCCCCGCTCATCCTCCCGGCCCCCTCGCTGCGGTCCTCCCGCTCATCCTCCCGGCCCCCTCGCTGCGGTCCTCCCGCTCATCCTCCCGGCCCCCTCGCTGCGGTCCTCCCGCTCATCCTCCCGGCCCCTCGCTGCGGTCCTCCCGCTCATCCTCCCGGCCCCCTCGCTGCGGTCCTCCCGCTCATCCTCCCGGCCCCCTCGCTGCGGTCCTCCCGCTCATCCTCCCGGCCCCCTCGCTGCGGTCCTCTCTGCCACTGTGGATGGGCT',\n",
       "  'TTGAAGGTGGAATGGAGGCCCCCGCTCATCCTCCCGGCCCCCTCGCTGCGGTCCTCCCGCTCATCCTCCCGGCCCCCTCGCTGCGGTCCTCCCGCTCATCCTCCCGGGCCCCCTCGCTGCGGTCCTCCCGCTCATCCTCCCGGCCCCCTCGCTGCGGTCCTCCCGCTCATCCTCCCGGCCCCCTCGCTGCGGTCCTCCCGCTCATCCTCCCGGCCCCCTCGCTGCGGTCCTCCCGCTCATCCTCCCGGCCCCCTCGCTGCGGTCCTCTCTGCCACTGTGGATGGGCT'),\n",
       " ('1',\n",
       "  '1',\n",
       "  '1',\n",
       "  '1',\n",
       "  '1',\n",
       "  '1',\n",
       "  '1',\n",
       "  '1',\n",
       "  '1',\n",
       "  '1',\n",
       "  '1',\n",
       "  '2',\n",
       "  '2',\n",
       "  '2',\n",
       "  '2',\n",
       "  '2',\n",
       "  '2',\n",
       "  '2',\n",
       "  '2',\n",
       "  '2'))"
      ]
     },
     "execution_count": 9,
     "metadata": {},
     "output_type": "execute_result"
    }
   ],
   "source": [
    "example_fastq = \"/data/wford/sv_merge/output/HG002_20bp/all_chr/chr1_2715611-2716002.fastq\"\n",
    "seqs, labels = readFastq(example_fastq)\n",
    "seqs, labels = zip(*sorted(zip(seqs, labels), key = lambda x : x[1]))\n",
    "print(len(seqs))\n",
    "seqs,labels"
   ]
  },
  {
   "cell_type": "code",
   "execution_count": 10,
   "metadata": {},
   "outputs": [
    {
     "data": {
      "text/plain": [
       "321"
      ]
     },
     "execution_count": 10,
     "metadata": {},
     "output_type": "execute_result"
    }
   ],
   "source": [
    "len(seqs[0])"
   ]
  },
  {
   "cell_type": "code",
   "execution_count": null,
   "metadata": {},
   "outputs": [],
   "source": []
  },
  {
   "cell_type": "markdown",
   "metadata": {},
   "source": [
    "Reading in the seqs and sorting them is done correctly without losing any information.\n",
    "\n",
    "We can see that the top 3 reads have a longer GT repeat than the other reads"
   ]
  },
  {
   "cell_type": "markdown",
   "metadata": {},
   "source": [
    "## Test loading in kmer tables"
   ]
  },
  {
   "cell_type": "code",
   "execution_count": 12,
   "metadata": {},
   "outputs": [],
   "source": [
    "kmer_table_path = \"/data/wford/sv_merge/output/kmerTables_20bp/21mers/all_chr/chr1_2715611-2716002\"\n",
    "for i in range(1, len(seqs)+1):\n",
    "    tableFile = os.path.join(kmer_table_path, f\"read{i}.ktab\")\n",
    "    command = [\"Tabex\", tableFile, \"LIST\"]\n",
    "    table_output = str(subprocess.check_output(command))\n",
    "    \n",
    "    fastk_read_counts = dict()\n",
    "    for row in  table_output.split(\"\\\\n\")[1:-1]: # First and last line don't contain kmers\n",
    "        kmer, count = row.strip().split(\"=\")\n",
    "        kmer = kmer.split(\":\")[1].strip().upper()\n",
    "        count = int(count.strip())\n",
    "\n",
    "        fastk_read_counts[kmer] = count\n",
    "\n",
    "    read = seqs[i-1]\n",
    "    read_counts = dict()\n",
    "\n",
    "    for i in range(len(read)-21+1):\n",
    "        kmer = read[i:i+21]\n",
    "        read_counts[kmer] = read_counts.setdefault(kmer, 0) + 1\n",
    "\n",
    "    in_raw_only = []\n",
    "    for kmer in read_counts.keys():\n",
    "        if read_counts[kmer] != fastk_read_counts.setdefault(kmer, \"Not present!\"):\n",
    "            in_raw_only.append(kmer)\n",
    "    in_fastk_only = []\n",
    "    for kmer in fastk_read_counts.keys():\n",
    "        if read_counts.setdefault(kmer, \"Not present!\") != fastk_read_counts[kmer]:\n",
    "            in_fastk_only.append(kmer)\n",
    "\n",
    "    for seq in in_raw_only:\n",
    "        seq = Seq(seq)\n",
    "        if seq.reverse_complement() not in in_fastk_only:\n",
    "            print(seq)"
   ]
  },
  {
   "cell_type": "markdown",
   "metadata": {},
   "source": [
    "Generating the kmer tables and using fastk is done correctly without losing any information. They just use the lexicographically smallest between a kmer and its reverse compliment.\n",
    "\n",
    "Now we test if turning kmer tables to a vector has an error."
   ]
  },
  {
   "cell_type": "code",
   "execution_count": 13,
   "metadata": {},
   "outputs": [],
   "source": [
    "kmer_dict = dict()\n",
    "next_kmer_index = 0\n",
    "minKmerRead = 750\n",
    "m = M = 24000\n",
    "\n",
    "firstOcc = [0 for _ in range(len(set(labels)))]\n",
    "for i, item in enumerate(sorted(set(labels))):\n",
    "    firstOcc[i] = labels.index(item)"
   ]
  },
  {
   "cell_type": "code",
   "execution_count": 15,
   "metadata": {},
   "outputs": [
    {
     "name": "stdout",
     "output_type": "stream",
     "text": [
      "Kmer Dictionary vs Kmer Vector\n",
      "max\t\t\t 8 8\n",
      "Num 1's\t\t\t 40 40\n",
      "Unique Values\t\t {8, 1, 7} [0 1 7 8]\n",
      "Length ignoring 0's\t 75 75\n",
      "Length of vector\t 750\n",
      "Kmer Dictionary vs Kmer Vector\n",
      "max\t\t\t 5 5\n",
      "Num 1's\t\t\t 186 186\n",
      "Unique Values\t\t {1, 2, 3, 4, 5} [0 1 2 3 4 5]\n",
      "Length ignoring 0's\t 228 228\n",
      "Length of vector\t 750\n",
      "Kmer Dictionary vs Kmer Vector\n",
      "max\t\t\t 8 8\n",
      "Num 1's\t\t\t 59 59\n",
      "Unique Values\t\t {8, 1, 6, 7} [0 1 6 7 8]\n",
      "Length ignoring 0's\t 94 94\n",
      "Length of vector\t 750\n",
      "Kmer Dictionary vs Kmer Vector\n",
      "max\t\t\t 8 8\n",
      "Num 1's\t\t\t 43 43\n",
      "Unique Values\t\t {1, 2, 5, 6, 7, 8} [0 1 2 5 6 7 8]\n",
      "Length ignoring 0's\t 94 94\n",
      "Length of vector\t 750\n",
      "Kmer Dictionary vs Kmer Vector\n",
      "max\t\t\t 8 8\n",
      "Num 1's\t\t\t 40 40\n",
      "Unique Values\t\t {8, 1, 7} [0 1 7 8]\n",
      "Length ignoring 0's\t 75 75\n",
      "Length of vector\t 750\n",
      "Kmer Dictionary vs Kmer Vector\n",
      "max\t\t\t 8 8\n",
      "Num 1's\t\t\t 92 92\n",
      "Unique Values\t\t {1, 2, 3, 4, 5, 6, 7, 8} [0 1 2 3 4 5 6 7 8]\n",
      "Length ignoring 0's\t 145 145\n",
      "Length of vector\t 750\n",
      "Kmer Dictionary vs Kmer Vector\n",
      "max\t\t\t 8 8\n",
      "Num 1's\t\t\t 40 40\n",
      "Unique Values\t\t {8, 1, 7} [0 1 7 8]\n",
      "Length ignoring 0's\t 75 75\n",
      "Length of vector\t 750\n",
      "Kmer Dictionary vs Kmer Vector\n",
      "max\t\t\t 8 8\n",
      "Num 1's\t\t\t 56 56\n",
      "Unique Values\t\t {8, 1, 6, 7} [0 1 6 7 8]\n",
      "Length ignoring 0's\t 91 91\n",
      "Length of vector\t 750\n",
      "Kmer Dictionary vs Kmer Vector\n",
      "max\t\t\t 8 8\n",
      "Num 1's\t\t\t 72 72\n",
      "Unique Values\t\t {1, 2, 6, 7, 8} [0 1 2 6 7 8]\n",
      "Length ignoring 0's\t 108 108\n",
      "Length of vector\t 750\n",
      "Kmer Dictionary vs Kmer Vector\n",
      "max\t\t\t 8 8\n",
      "Num 1's\t\t\t 40 40\n",
      "Unique Values\t\t {8, 1, 7} [0 1 7 8]\n",
      "Length ignoring 0's\t 75 75\n",
      "Length of vector\t 750\n",
      "Kmer Dictionary vs Kmer Vector\n",
      "max\t\t\t 8 8\n",
      "Num 1's\t\t\t 58 58\n",
      "Unique Values\t\t {8, 1, 6, 7} [0 1 6 7 8]\n",
      "Length ignoring 0's\t 93 93\n",
      "Length of vector\t 750\n",
      "Kmer Dictionary vs Kmer Vector\n",
      "max\t\t\t 6 6\n",
      "Num 1's\t\t\t 74 74\n",
      "Unique Values\t\t {1, 5, 6} [0 1 5 6]\n",
      "Length ignoring 0's\t 109 109\n",
      "Length of vector\t 750\n",
      "Kmer Dictionary vs Kmer Vector\n",
      "max\t\t\t 7 7\n",
      "Num 1's\t\t\t 93 93\n",
      "Unique Values\t\t {1, 2, 3, 4, 5, 6, 7} [0 1 2 3 4 5 6 7]\n",
      "Length ignoring 0's\t 129 129\n",
      "Length of vector\t 750\n",
      "Kmer Dictionary vs Kmer Vector\n",
      "max\t\t\t 6 6\n",
      "Num 1's\t\t\t 95 95\n",
      "Unique Values\t\t {1, 4, 5, 6} [0 1 4 5 6]\n",
      "Length ignoring 0's\t 130 130\n",
      "Length of vector\t 750\n",
      "Kmer Dictionary vs Kmer Vector\n",
      "max\t\t\t 6 6\n",
      "Num 1's\t\t\t 108 108\n",
      "Unique Values\t\t {1, 2, 3, 4, 5, 6} [0 1 2 3 4 5 6]\n",
      "Length ignoring 0's\t 164 164\n",
      "Length of vector\t 750\n",
      "Kmer Dictionary vs Kmer Vector\n",
      "max\t\t\t 7 7\n",
      "Num 1's\t\t\t 40 40\n",
      "Unique Values\t\t {1, 6, 7} [0 1 6 7]\n",
      "Length ignoring 0's\t 75 75\n",
      "Length of vector\t 750\n",
      "Kmer Dictionary vs Kmer Vector\n",
      "max\t\t\t 7 7\n",
      "Num 1's\t\t\t 59 59\n",
      "Unique Values\t\t {1, 5, 6, 7} [0 1 5 6 7]\n",
      "Length ignoring 0's\t 94 94\n",
      "Length of vector\t 750\n",
      "Kmer Dictionary vs Kmer Vector\n",
      "max\t\t\t 7 7\n",
      "Num 1's\t\t\t 89 89\n",
      "Unique Values\t\t {1, 2, 4, 5, 6, 7} [0 1 2 4 5 6 7]\n",
      "Length ignoring 0's\t 125 125\n",
      "Length of vector\t 750\n",
      "Kmer Dictionary vs Kmer Vector\n",
      "max\t\t\t 7 7\n",
      "Num 1's\t\t\t 56 56\n",
      "Unique Values\t\t {1, 5, 6, 7} [0 1 5 6 7]\n",
      "Length ignoring 0's\t 91 91\n",
      "Length of vector\t 750\n",
      "Kmer Dictionary vs Kmer Vector\n",
      "max\t\t\t 7 7\n",
      "Num 1's\t\t\t 59 59\n",
      "Unique Values\t\t {1, 5, 6, 7} [0 1 5 6 7]\n",
      "Length ignoring 0's\t 94 94\n",
      "Length of vector\t 750\n"
     ]
    }
   ],
   "source": [
    "for i in range(len(seqs)):\n",
    "    tableFile = os.path.join(kmer_table_path, f\"read{i + 1}.ktab\")\n",
    "    command = [\"Tabex\", tableFile, \"LIST\"]\n",
    "    table_output = str(subprocess.check_output(command))\n",
    "\n",
    "    characteristicVector = np.zeros(minKmerRead, dtype=np.int16)\n",
    "    fastk_read_counts = dict()\n",
    "\n",
    "    for row in  table_output.split(\"\\\\n\")[1:-1]: # First and last line don't contain kmers\n",
    "        kmer, count = row.strip().split(\"=\")\n",
    "        kmer = kmer.split(\":\")[1].strip().upper()\n",
    "        count = int(count.strip())\n",
    "\n",
    "        fastk_read_counts[kmer] = count\n",
    "\n",
    "        # Get kmer index\n",
    "        if kmer not in kmer_dict.keys():\n",
    "            kmer_dict[kmer] = next_kmer_index\n",
    "            next_kmer_index += 1\n",
    "        \n",
    "        localIndex = kmer_dict[kmer]\n",
    "        if localIndex >= minKmerRead:\n",
    "            if minKmerRead * 2 > m:\n",
    "                addValue = m - localIndex\n",
    "            else: addValue = minKmerRead\n",
    "            characteristicVector = np.concatenate((characteristicVector, np.zeros(addValue)), axis=0)\n",
    "            minKmerRead *= 2\n",
    "        characteristicVector[localIndex] = count\n",
    "\n",
    "    print(\"Kmer Dictionary vs Kmer Vector\")\n",
    "    kmers, values = zip(*fastk_read_counts.items())\n",
    "    print(\"max\\t\\t\\t\", max(values),max(characteristicVector))\n",
    "    print(\"Num 1's\\t\\t\\t\", values.count(1), sum(characteristicVector == 1))\n",
    "    print(\"Unique Values\\t\\t\", set(values), np.unique(characteristicVector))\n",
    "    print(\"Length ignoring 0's\\t\", len(values), len(characteristicVector) - sum(characteristicVector == 0))\n",
    "    print(\"Length of vector\\t\", len(characteristicVector))"
   ]
  },
  {
   "cell_type": "markdown",
   "metadata": {},
   "source": [
    "The vector is correctly generating as well."
   ]
  },
  {
   "cell_type": "markdown",
   "metadata": {},
   "source": [
    "## Test Performing a single hash"
   ]
  },
  {
   "cell_type": "markdown",
   "metadata": {},
   "source": [
    "### Euclidean Hash"
   ]
  },
  {
   "cell_type": "code",
   "execution_count": 16,
   "metadata": {},
   "outputs": [],
   "source": [
    "\"\"\"\n",
    "Generate signatureMatrix of hashs x seqs\n",
    "    A hash, in this case, is the projection of the seqs characteristicMatrix\n",
    "    represenation onto a random line.\n",
    "\"\"\"\n",
    "def projectionSignature(randLines, randOffsets, numHashes, n, binWidth):\n",
    "    kmer_dict = dict()\n",
    "    signatureMatrix = np.zeros((numHashes, n))\n",
    "    for i in range(n):\n",
    "        characteristicVector, kmer_dict = getCharacteristicVector(i, kmer_dict)\n",
    "        length = characteristicVector.shape[0]\n",
    "        for j in range(numHashes):\n",
    "            direction = randLines[j][0:length]\n",
    "            offset = randOffsets[j]\n",
    "            signatureMatrix[j,i] = projectAndBin(characteristicVector, direction, offset, binWidth)\n",
    "    return signatureMatrix\n",
    "\n",
    "\"\"\"\n",
    "Compute projection of point onto a random line and calculate which bin the point falls into.\n",
    "Returns pos or neg integer indicating which bin projected into. i.e.\n",
    "    |-2|-1|0(contains origin at leftmost boundary)|1|2|\n",
    "\"\"\"\n",
    "def projectAndBin(characteristicVector, line, offset, binWidth):\n",
    "    projection = np.dot(line,characteristicVector)*line + offset\n",
    "    projectedWidth = line[0] * binWidth\n",
    "    return int(projection[0] // projectedWidth)\n",
    "\n",
    "\"\"\"\n",
    "Generate Characteristic vector from FastK\n",
    "\"\"\"\n",
    "def getCharacteristicVector(i, kmer_dict, minKmerRead = minKmerRead):\n",
    "    tableFile = os.path.join(kmer_table_path, f\"read{i + 1}.ktab\")\n",
    "    command = [\"Tabex\", tableFile, \"LIST\"]\n",
    "    table_output = str(subprocess.check_output(command))\n",
    "\n",
    "    characteristicVector = np.zeros(minKmerRead, dtype=np.int16)\n",
    "    fastk_read_counts = dict()\n",
    "\n",
    "    for row in  table_output.split(\"\\\\n\")[1:-1]: # First and last line don't contain kmers\n",
    "        kmer, count = row.strip().split(\"=\")\n",
    "        kmer = kmer.split(\":\")[1].strip().upper()\n",
    "        count = int(count.strip())\n",
    "\n",
    "        fastk_read_counts[kmer] = count\n",
    "\n",
    "        # Assign unknown kmer ids\n",
    "        if kmer not in kmer_dict.keys():\n",
    "            kmer_dict[kmer] = len(kmer_dict)\n",
    "        \n",
    "        localIndex = kmer_dict[kmer]\n",
    "        if localIndex >= minKmerRead:\n",
    "            if minKmerRead * 2 > m:\n",
    "                addValue = m - localIndex\n",
    "            else: addValue = minKmerRead\n",
    "            characteristicVector = np.concatenate((characteristicVector, np.zeros(addValue)), axis=0)\n",
    "            minKmerRead *= 2\n",
    "        characteristicVector[localIndex] = count\n",
    "    return characteristicVector, kmer_dict\n",
    "\n",
    "\"\"\"\n",
    "Generate random lines for euclidean projecting\n",
    "\"\"\"\n",
    "def genRandomLines():\n",
    "    m = 750\n",
    "    randLines = []\n",
    "    randOffsets = []\n",
    "    for _ in range(20000):\n",
    "        s = np.random.normal(0, 1, m)\n",
    "        direction = s / np.sqrt(sum(s*s))\n",
    "        randLines.append(direction)\n",
    "\n",
    "        offset = np.random.uniform(1,5,m)\n",
    "        randOffsets.append(offset)\n",
    "    return randLines, randOffsets"
   ]
  },
  {
   "cell_type": "code",
   "execution_count": 17,
   "metadata": {},
   "outputs": [
    {
     "data": {
      "text/plain": [
       "(array([[ -55.,  -55.,  -55., ...,  -55.,  -55.,  -55.],\n",
       "        [ 268.,  266.,  267., ...,  267.,  267.,  267.],\n",
       "        [ -19.,  -22.,  -20., ...,  -21.,  -20.,  -20.],\n",
       "        ...,\n",
       "        [ 267.,  267.,  267., ...,  266.,  267.,  267.],\n",
       "        [1942., 1944., 1942., ..., 1943., 1943., 1943.],\n",
       "        [ -38.,  -38.,  -38., ...,  -39.,  -38.,  -38.]]),\n",
       " (1000, 20))"
      ]
     },
     "execution_count": 17,
     "metadata": {},
     "output_type": "execute_result"
    }
   ],
   "source": [
    "randLines, randOffsets = genRandomLines()\n",
    "n: int = len(seqs)\n",
    "numHashes = 1000\n",
    "binWidth = 1\n",
    "signatureMatrix = projectionSignature(randLines, randOffsets, numHashes, n, binWidth)\n",
    "signatureMatrix, signatureMatrix.shape"
   ]
  },
  {
   "cell_type": "code",
   "execution_count": 70,
   "metadata": {},
   "outputs": [],
   "source": [
    "\"\"\"\n",
    "Return the characteristic vector for a single read, i\n",
    "\"\"\"\n",
    "def getCharacteristicVector(i, fastqFile, K = 21, minKmerRead=400, m = 3000):\n",
    "    os.chdir(\"/data/wford/sv_merge/scripts/readFiltering\")\n",
    "    characteristicVector = np.zeros(minKmerRead, dtype=np.int16)\n",
    "    kmerDir = f\"../../output/kmerTables_20bp/{int(K)}mers\" # convert to int to eliminate any trailing 0s\n",
    "    tableFile = os.path.join(kmerDir, \"all_chr\", os.path.basename(fastqFile)[:-6], f\"read{i+1}.ktab\")\n",
    "\n",
    "    print(tableFile)\n",
    "\n",
    "    # Some regions are too small, don't have haplotypes, or too few reads and led to errors. So table doesn't exist\n",
    "    if not os.path.isfile(tableFile):\n",
    "        print(\"AHHHHHH\")\n",
    "        with open(\"./tmp/bad_reads\", \"a\") as f:\n",
    "            f.write(tableFile + \"\\n\")\n",
    "        return characteristicVector\n",
    "        raise FileNotFoundError(tableFile)\n",
    "\n",
    "    command = [\"Tabex\", tableFile, \"LIST\"]\n",
    "    table_output = str(subprocess.check_output(command))\n",
    "\n",
    "    print(table_output)\n",
    "\n",
    "    kmer_dict = dict()\n",
    "    for row in  table_output.split(\"\\\\n\")[1:-1]: # First and last line don't contain kmers\n",
    "        kmer, count = row.strip().split(\"=\")\n",
    "        kmer = kmer.split(\":\")[1].strip().upper()\n",
    "        #if abs(hash(kmer)) < self.limit: Don't need frac min hash if lazily generating vectors\n",
    "        count = int(count.strip())\n",
    "\n",
    "        # Get kmer index\n",
    "        \n",
    "        if kmer not in kmer_dict.keys():\n",
    "            kmer_dict[kmer] = len(kmer_dict)\n",
    "        \n",
    "        localIndex = kmer_dict[kmer]\n",
    "        if localIndex >= minKmerRead:\n",
    "            if minKmerRead * 2 > m:\n",
    "                addValue = m - localIndex\n",
    "            else: addValue = minKmerRead\n",
    "            characteristicVector = np.concatenate((characteristicVector, np.zeros(addValue)), axis=0)\n",
    "            minKmerRead *= 2\n",
    "        characteristicVector[localIndex] = count\n",
    "\n",
    "    return characteristicVector"
   ]
  },
  {
   "cell_type": "code",
   "execution_count": 71,
   "metadata": {},
   "outputs": [
    {
     "name": "stdout",
     "output_type": "stream",
     "text": [
      "../../output/kmerTables_20bp/21mers/all_chr/chr1_2715611-2716002/read1.ktab\n",
      "b'Opening 21-mer table with 75 entries\\n         0: aaggtggaatggaggcccccg =     1\\n         1: aatggaggcccccgctcatcc =     1\\n         2: acagtggcagagaggaccgca =     1\\n         3: accgcagcgagggggccggga =     8\\n         4: agagaggaccgcagcgagggg =     1\\n         5: agaggaccgcagcgagggggc =     1\\n         6: agcccatccacagtggcagag =     1\\n         7: agcgagggggccgggaggatg =     8\\n         8: agcgggaggaccgcagcgagg =     7\\n         9: agcgggggcctccattccacc =     1\\n        10: aggaccgcagcgagggggccg =     8\\n        11: aggatgagcgggaggaccgca =     7\\n        12: aggatgagcgggggcctccat =     1\\n        13: aggcccccgctcatcctcccg =     1\\n        14: agggggccgggaggatgagcg =     8\\n        15: aggtggaatggaggcccccgc =     1\\n        16: agtggcagagaggaccgcagc =     1\\n        17: atccacagtggcagagaggac =     1\\n        18: atcctcccggccccctcgctg =     8\\n        19: atgagcgggaggaccgcagcg =     7\\n        20: atgagcgggggcctccattcc =     1\\n        21: cacagtggcagagaggaccgc =     1\\n        22: cagagaggaccgcagcgaggg =     1\\n        23: cagtggcagagaggaccgcag =     1\\n        24: catccacagtggcagagagga =     1\\n        25: ccacagtggcagagaggaccg =     1\\n        26: ccatccacagtggcagagagg =     1\\n        27: cccatccacagtggcagagag =     1\\n        28: cccccgctcatcctcccggcc =     1\\n        29: ccccctcgctgcggtcctccc =     7\\n        30: ccccctcgctgcggtcctctc =     1\\n        31: ccccgctcatcctcccggccc =     1\\n        32: cccctcgctgcggtcctcccg =     7\\n        33: cccgctcatcctcccggcccc =     8\\n        34: cccggccccctcgctgcggtc =     8\\n        35: ccctcgctgcggtcctcccgc =     7\\n        36: ccgcagcgagggggccgggag =     8\\n        37: ccgctcatcctcccggccccc =     8\\n        38: ccggccccctcgctgcggtcc =     8\\n        39: ccgggaggatgagcgggagga =     7\\n        40: ccgggaggatgagcgggggcc =     1\\n        41: cctcccgctcatcctcccggc =     7\\n        42: cctcccggccccctcgctgcg =     8\\n        43: cctcgctgcggtcctctctgc =     1\\n        44: cgagggggccgggaggatgag =     8\\n        45: cgctgcggtcctctctgccac =     1\\n        46: cgggaggatgagcgggaggac =     7\\n        47: cggtcctcccgctcatcctcc =     7\\n        48: ctcccgctcatcctcccggcc =     7\\n        49: ctcgctgcggtcctcccgctc =     7\\n        50: ctcgctgcggtcctctctgcc =     1\\n        51: ctgcggtcctcccgctcatcc =     7\\n        52: gaaggtggaatggaggccccc =     1\\n        53: gaatggaggcccccgctcatc =     1\\n        54: gagcgggggcctccattccac =     1\\n        55: gaggaccgcagcgagggggcc =     8\\n        56: gaggatgagcgggaggaccgc =     7\\n        57: gaggatgagcgggggcctcca =     1\\n        58: gaggcccccgctcatcctccc =     1\\n        59: gagggggccgggaggatgagc =     8\\n        60: gatgagcgggaggaccgcagc =     7\\n        61: gcagcgagggggccgggagga =     8\\n        62: gcccatccacagtggcagaga =     1\\n        63: gcccccgctcatcctcccggc =     1\\n        64: gccccctcgctgcggtcctcc =     7\\n        65: gcgagggggccgggaggatga =     8\\n        66: ggaggatgagcgggggcctcc =     1\\n        67: gggaggatgagcgggaggacc =     7\\n        68: gggccgggaggatgagcggga =     7\\n        69: gggcctccattccaccttcaa =     1\\n        70: ggggcctccattccaccttca =     1\\n        71: ggtcctctctgccactgtgga =     1\\n        72: tcgctgcggtcctcccgctca =     7\\n        73: tcgctgcggtcctctctgcca =     1\\n        74: tgagcgggggcctccattcca =     1\\n'\n"
     ]
    },
    {
     "data": {
      "text/plain": [
       "array([1, 1, 1, 8, 1, 1, 1, 8, 7, 1, 8, 7, 1, 1, 8, 1, 1, 1, 8, 7, 1, 1,\n",
       "       1, 1, 1, 1, 1, 1, 1, 7, 1, 1, 7, 8, 8, 7, 8, 8, 8, 7, 1, 7, 8, 1,\n",
       "       8, 1, 7, 7, 7, 7, 1, 7, 1, 1, 1, 8, 7, 1, 1, 8, 7, 8, 1, 1, 7, 8,\n",
       "       1, 7, 7, 1, 1, 1, 7, 1, 1, 0, 0, 0, 0, 0, 0, 0, 0, 0, 0, 0, 0, 0,\n",
       "       0, 0, 0, 0, 0, 0, 0, 0, 0, 0, 0, 0, 0, 0, 0, 0, 0, 0, 0, 0, 0, 0,\n",
       "       0, 0, 0, 0, 0, 0, 0, 0, 0, 0, 0, 0, 0, 0, 0, 0, 0, 0, 0, 0, 0, 0,\n",
       "       0, 0, 0, 0, 0, 0, 0, 0, 0, 0, 0, 0, 0, 0, 0, 0, 0, 0, 0, 0, 0, 0,\n",
       "       0, 0, 0, 0, 0, 0, 0, 0, 0, 0, 0, 0, 0, 0, 0, 0, 0, 0, 0, 0, 0, 0,\n",
       "       0, 0, 0, 0, 0, 0, 0, 0, 0, 0, 0, 0, 0, 0, 0, 0, 0, 0, 0, 0, 0, 0,\n",
       "       0, 0, 0, 0, 0, 0, 0, 0, 0, 0, 0, 0, 0, 0, 0, 0, 0, 0, 0, 0, 0, 0,\n",
       "       0, 0, 0, 0, 0, 0, 0, 0, 0, 0, 0, 0, 0, 0, 0, 0, 0, 0, 0, 0, 0, 0,\n",
       "       0, 0, 0, 0, 0, 0, 0, 0, 0, 0, 0, 0, 0, 0, 0, 0, 0, 0, 0, 0, 0, 0,\n",
       "       0, 0, 0, 0, 0, 0, 0, 0, 0, 0, 0, 0, 0, 0, 0, 0, 0, 0, 0, 0, 0, 0,\n",
       "       0, 0, 0, 0, 0, 0, 0, 0, 0, 0, 0, 0, 0, 0, 0, 0, 0, 0, 0, 0, 0, 0,\n",
       "       0, 0, 0, 0, 0, 0, 0, 0, 0, 0, 0, 0, 0, 0, 0, 0, 0, 0, 0, 0, 0, 0,\n",
       "       0, 0, 0, 0, 0, 0, 0, 0, 0, 0, 0, 0, 0, 0, 0, 0, 0, 0, 0, 0, 0, 0,\n",
       "       0, 0, 0, 0, 0, 0, 0, 0, 0, 0, 0, 0, 0, 0, 0, 0, 0, 0, 0, 0, 0, 0,\n",
       "       0, 0, 0, 0, 0, 0, 0, 0, 0, 0, 0, 0, 0, 0, 0, 0, 0, 0, 0, 0, 0, 0,\n",
       "       0, 0, 0, 0], dtype=int16)"
      ]
     },
     "execution_count": 71,
     "metadata": {},
     "output_type": "execute_result"
    }
   ],
   "source": [
    "fastq_file = \"/data/wford/sv_merge/output/HG002_20bp/all_chr/chr1_2715611-2716002.fastq\"\n",
    "\n",
    "getCharacteristicVector(0, fastq_file)"
   ]
  },
  {
   "cell_type": "code",
   "execution_count": null,
   "metadata": {},
   "outputs": [],
   "source": []
  },
  {
   "cell_type": "code",
   "execution_count": 20,
   "metadata": {},
   "outputs": [],
   "source": [
    "\"\"\"\n",
    "Use banding technique to bin reads by similarity\n",
    "\"\"\"\n",
    "def band(signatureMatrix, numHashes,n, bandLength):\n",
    "    def connectBucket(bucket, adjacencyMatrix):\n",
    "        for i in range(len(bucket)-1):\n",
    "            for j in range(i+1, len(bucket)):\n",
    "                adjacencyMatrix[bucket[i],bucket[j]] = True\n",
    "                adjacencyMatrix[bucket[j],bucket[i]] = True\n",
    "        return adjacencyMatrix\n",
    "    adjacencyMatrix = np.eye(n, dtype = bool)\n",
    "    for i in range(numHashes//bandLength):\n",
    "        buckets = defaultdict(list[int])\n",
    "        startBucket = i*bandLength\n",
    "        endBucket = (i+1)*bandLength\n",
    "        for j in range(n):\n",
    "            buckets[signatureMatrix[startBucket:endBucket, j].tobytes()].append(j)\n",
    "        for bucket in buckets.values():\n",
    "            adjacencyMatrix = connectBucket(bucket, adjacencyMatrix)\n",
    "    return adjacencyMatrix\n",
    "\n",
    "\"\"\"\n",
    "Plot adjacencyMatrix\n",
    "\"\"\"\n",
    "def plotAdjacencyMatrix(adjacencyMatrix, firstOcc = False):\n",
    "    n = len(adjacencyMatrix)\n",
    "\n",
    "    plt.imshow(adjacencyMatrix, \n",
    "                cmap = 'binary_r', \n",
    "                interpolation='nearest', \n",
    "                vmin=0, vmax=1\n",
    "    )\n",
    "    plt.title(f\"Adjacency Matrix\")\n",
    "    plt.xticks(np.arange(n), np.arange(1, n + 1))\n",
    "    plt.yticks(np.arange(n), np.arange(1, n + 1))\n",
    "\n",
    "    plt.tick_params(axis='x', top=True, bottom=False, labeltop=True, labelbottom=False)\n",
    "    plt.xlabel(f\"White in pos i,j indicates i connects j\")\n",
    "    if firstOcc is not False:\n",
    "        for x in firstOcc[1:]:\n",
    "            plt.axhline(x - 0.5, color='red', linestyle='-', linewidth=2)\n",
    "            plt.axvline(x - 0.5, color='red', linestyle='-', linewidth=2)\n",
    "    plt.show()\n",
    "\n",
    "\"\"\"\n",
    "Generate TPR FPR curve as bandLength varies over all possible values\n",
    "    1 --> total number of hashes\n",
    "\"\"\"\n",
    "def plotTPRFPRCurve(signatureMatrix, firstOcc):\n",
    "    \"\"\"\n",
    "    Plot the ROC curve with area under curve labeled.\n",
    "    \"\"\"\n",
    "    def plotROC(tprs, fprs):\n",
    "        # Plot the ROC curve\n",
    "        plt.figure()  \n",
    "        plt.plot(fprs, tprs)\n",
    "        #plt.plot([0, 1], [0, 1], 'k--', label='No Skill')\n",
    "        plt.xlim([0.0, 1.0])\n",
    "        plt.ylim([0.0, 1.05])\n",
    "        plt.xlabel('False Positive Rate')\n",
    "        plt.ylabel('True Positive Rate')\n",
    "        plt.title(f'ROC Curve')\n",
    "        plt.legend()\n",
    "        plt.show()\n",
    "\n",
    "    \"\"\"\n",
    "    Calculate TPR, FPR from adjacency matrix\n",
    "    \"\"\"\n",
    "    def TPR_FPR(adjacencyMatrix, n, firstOcc):\n",
    "        trueMask = np.zeros((n, n), dtype = bool)\n",
    "        for i in range(0, len(firstOcc)-1):\n",
    "            trueMask[firstOcc[i]:firstOcc[i+1], firstOcc[i]:firstOcc[i+1]] = 1\n",
    "        # Add Last Region\n",
    "        trueMask[firstOcc[-1]:, firstOcc[-1]:] = 1\n",
    "\n",
    "        # Don't include y=x line.\n",
    "        tpr = int((np.sum(adjacencyMatrix, where = trueMask) - n)/2) /int((np.sum(trueMask) - n)/2)\n",
    "        fpr = int(np.sum(adjacencyMatrix, where = ~trueMask)/2) / int(np.sum(~trueMask)/2)\n",
    "\n",
    "        return tpr, fpr\n",
    "    \n",
    "    n = signatureMatrix.shape[1]\n",
    "    numHashes = len(signatureMatrix)\n",
    "    tprs, fprs = [0 for _ in repeat(None, numHashes)], [0 for _ in repeat(None, numHashes)]\n",
    "    for bandLength in range(1, numHashes + 1):\n",
    "        adjacencyMatrix = band(signatureMatrix, numHashes, n, bandLength)\n",
    "        tpr, fpr = TPR_FPR(adjacencyMatrix, n, firstOcc)\n",
    "        tprs.append(tpr)\n",
    "        fprs.append(fpr)\n",
    "    plotROC(tprs, fprs)"
   ]
  },
  {
   "cell_type": "code",
   "execution_count": 29,
   "metadata": {},
   "outputs": [
    {
     "data": {
      "image/png": "[encoded data removed]",
      "text/plain": [
       "<Figure size 640x480 with 1 Axes>"
      ]
     },
     "metadata": {},
     "output_type": "display_data"
    }
   ],
   "source": [
    "bandLength = 12\n",
    "\n",
    "adjacencyMatrix = band(signatureMatrix, numHashes, n, bandLength)\n",
    "plotAdjacencyMatrix(adjacencyMatrix)"
   ]
  },
  {
   "cell_type": "code",
   "execution_count": 30,
   "metadata": {},
   "outputs": [
    {
     "name": "stderr",
     "output_type": "stream",
     "text": [
      "No artists with labels found to put in legend.  Note that artists whose label start with an underscore are ignored when legend() is called with no argument.\n"
     ]
    },
    {
     "data": {
      "image/png": "[encoded data removed]",
      "text/plain": [
       "<Figure size 640x480 with 1 Axes>"
      ]
     },
     "metadata": {},
     "output_type": "display_data"
    }
   ],
   "source": [
    "plotTPRFPRCurve(signatureMatrix, firstOcc)"
   ]
  },
  {
   "cell_type": "markdown",
   "metadata": {},
   "source": [
    "These values look more reasonable than the ones we are using in the saved matrix set. But it could be from the random vectors. Let's try using the saved random vectors."
   ]
  },
  {
   "cell_type": "markdown",
   "metadata": {},
   "source": [
    "Compare against the pre-saved characteristic matrices"
   ]
  },
  {
   "cell_type": "code",
   "execution_count": 73,
   "metadata": {},
   "outputs": [
    {
     "name": "stderr",
     "output_type": "stream",
     "text": [
      "No artists with labels found to put in legend.  Note that artists whose label start with an underscore are ignored when legend() is called with no argument.\n"
     ]
    },
    {
     "data": {
      "image/png": "[encoded data removed]",
      "text/plain": [
       "<Figure size 640x480 with 1 Axes>"
      ]
     },
     "metadata": {},
     "output_type": "display_data"
    }
   ],
   "source": [
    "saved_signature_matrix_file = \"/data/wford/sv_merge/output/signatureMtxs_20bp/sketch/1000,21,1/chr1_2715611-2716002.npy\"\n",
    "saved_signature_matrix = np.load(saved_signature_matrix_file)\n",
    "plotTPRFPRCurve(saved_signature_matrix, firstOcc)"
   ]
  },
  {
   "cell_type": "code",
   "execution_count": 74,
   "metadata": {},
   "outputs": [
    {
     "data": {
      "text/plain": [
       "array([[ 1.,  1.,  1., ...,  2.,  2.,  2.],\n",
       "       [-1., -1., -1., ..., -1., -1.,  1.],\n",
       "       [ 1.,  1.,  1., ...,  1.,  1.,  1.],\n",
       "       ...,\n",
       "       [-1.,  1., -1., ..., -1., -1., -1.],\n",
       "       [-1., -1., -1., ..., -1., -1., -1.],\n",
       "       [ 1.,  1.,  1., ..., -1.,  1.,  1.]])"
      ]
     },
     "execution_count": 74,
     "metadata": {},
     "output_type": "execute_result"
    }
   ],
   "source": [
    "saved_signature_matrix"
   ]
  },
  {
   "cell_type": "markdown",
   "metadata": {},
   "source": [
    "These actually look pretty similar. This is not a good sign because our pre-saved distance metrics are not functioning correctly."
   ]
  },
  {
   "cell_type": "markdown",
   "metadata": {},
   "source": [
    "#### Test to see if signature matrix correctly approximates euclidean distance"
   ]
  },
  {
   "cell_type": "code",
   "execution_count": 14,
   "metadata": {},
   "outputs": [],
   "source": [
    "\"\"\"\n",
    "Euclidean Distance from two kmer sets represented as numpy arrays\n",
    "\"\"\"\n",
    "def euclidean_distance(set_a: np.ndarray, set_b: np.ndarray):\n",
    "    return np.linalg.norm(set_a - set_b)\n",
    "\n",
    "\"\"\"\n",
    "Euclidean Distance from two signature vectors represented as numpy arrays\n",
    "\n",
    "Impossible to calculate directly. Instead we'll just develop an ordering and see if they are associated\n",
    "\"\"\"\n",
    "def approx_euclidean_distance(set_a: np.ndarray, set_b: np.ndarray):\n",
    "    return 1 - sum(set_a == set_b) / len(set_a)\n",
    "\n",
    "\"\"\"\n",
    "Plot exact vs approximate distances\n",
    "\"\"\"\n",
    "def plot_distances(distance_vector, approx_distance_vector, title:str):\n",
    "    plt.scatter(approx_distance_vector, distance_vector)\n",
    "    plt.title(f\"Exact vs Approximate: {title.title()} Distance\")\n",
    "    plt.xlabel(\"Approximate Distance\")\n",
    "    plt.ylabel(\"Exact Distance\")\n",
    "    plt.show()\n",
    "\n",
    "    print(\"Real:\")\n",
    "    print(\"min\\t:\", np.min(distance_vector))\n",
    "    print(\"mean\\t:\",np.mean(distance_vector))\n",
    "    print(\"max\\t:\",np.max(distance_vector))\n",
    "    print(\"var\\t:\",np.var(distance_vector))\n",
    "    print()\n",
    "    print(\"Approx:\")\n",
    "    print(\"min\\t:\", np.min(approx_distance_vector))\n",
    "    print(\"mean\\t:\",np.mean(approx_distance_vector))\n",
    "    print(\"max\\t:\",np.max(approx_distance_vector))\n",
    "    print(\"var\\t:\",np.var(approx_distance_vector))"
   ]
  },
  {
   "cell_type": "code",
   "execution_count": 15,
   "metadata": {},
   "outputs": [],
   "source": [
    "char_vector_length = 750 #len(characteristicVector)\n",
    "characteristic_matrix = np.zeros((750,n))\n",
    "kmer_dict = dict()\n",
    "for i in range(n):\n",
    "    characteristic_matrix[:, i], kmer_dict = getCharacteristicVector(i, kmer_dict)\n",
    "\n",
    "# This step is not performed in prediction. Shouldn't matter but noted!!\n",
    "trimmed_characteristic_matrix = characteristic_matrix[0:max(np.where(characteristic_matrix > 0)[0])+1, :]"
   ]
  },
  {
   "cell_type": "code",
   "execution_count": 16,
   "metadata": {},
   "outputs": [],
   "source": [
    "trimmed_characteristic_matrix.shape, signatureMatrix.shape\n",
    "approx_distances = []\n",
    "exact_distances = []\n",
    "for i in range(12 - 1):\n",
    "    for j in range(i + 1, 12):\n",
    "        approx_distances.append( approx_euclidean_distance(signatureMatrix[:,i], signatureMatrix[:,j]) )\n",
    "        exact_distances.append( euclidean_distance(trimmed_characteristic_matrix[:,i], trimmed_characteristic_matrix[:,j]) )"
   ]
  },
  {
   "cell_type": "code",
   "execution_count": 17,
   "metadata": {},
   "outputs": [
    {
     "data": {
      "image/png": "[encoded data removed]",
      "text/plain": [
       "<Figure size 640x480 with 1 Axes>"
      ]
     },
     "metadata": {},
     "output_type": "display_data"
    },
    {
     "name": "stdout",
     "output_type": "stream",
     "text": [
      "Real:\n",
      "min\t: 0.0\n",
      "mean\t: 11.26488455646278\n",
      "max\t: 22.9128784747792\n",
      "var\t: 25.99631532350573\n",
      "\n",
      "Approx:\n",
      "min\t: 0.0\n",
      "mean\t: 0.3196212121212121\n",
      "max\t: 0.5700000000000001\n",
      "var\t: 0.01669014439853076\n"
     ]
    }
   ],
   "source": [
    "plot_distances(exact_distances, approx_distances, \"euclidean\")"
   ]
  },
  {
   "cell_type": "markdown",
   "metadata": {},
   "source": [
    "Oh my goodness it does! I found a small bug and now it approximately follows the y = x line like we hoped."
   ]
  },
  {
   "cell_type": "markdown",
   "metadata": {},
   "source": [
    "### Jaccard and minHash"
   ]
  },
  {
   "cell_type": "code",
   "execution_count": 18,
   "metadata": {},
   "outputs": [],
   "source": [
    "\"\"\"\n",
    "Jaccard Distance from two kmer sets represented as numpy arrays\n",
    "\"\"\"\n",
    "def jaccard_distance(set_a: np.ndarray, set_b: np.ndarray):\n",
    "    return sum(np.logical_and(set_a, set_b)) / sum(np.logical_or(set_a, set_b))\n",
    "\n",
    "\"\"\"\n",
    "Jaccard Distance from two signature vectors represented as numpy arrays\n",
    "\"\"\"\n",
    "def approx_jaccard_distance(set_a: np.ndarray, set_b: np.ndarray):\n",
    "    return sum(set_a == set_b) / set_a.shape[0]"
   ]
  },
  {
   "cell_type": "code",
   "execution_count": 19,
   "metadata": {},
   "outputs": [],
   "source": [
    "\"\"\"\n",
    "Generate signatureMatrix of hashs x seqs\n",
    "\"\"\"\n",
    "def minHashSignature(hashes, numHashes, n):\n",
    "    kmer_dict = dict()\n",
    "    signatureMatrix = np.full((numHashes, n), np.inf)\n",
    "    for k, univ_hash in enumerate(hashes):\n",
    "        if k == numHashes: break\n",
    "        for i in range(n):\n",
    "            characteristicVector, kmer_dict = getCharacteristicVector(i, kmer_dict)\n",
    "            for kmer in kmer_dict.keys():\n",
    "                if characteristicVector[kmer_dict[kmer]] == 0: continue\n",
    "                signatureMatrix[k,i] = min( signatureMatrix[k,i], univ_hash(kmer_dict[kmer]) )\n",
    "    return signatureMatrix\n",
    "\n",
    "\"\"\"\n",
    "Build hashes from random inputs\n",
    "\"\"\"\n",
    "def buildHashes(hash_params):\n",
    "    \"\"\"\n",
    "    Function to return hash functions to avoid 'late binding' error\n",
    "        https://stackoverflow.com/questions/3431676/creating-functions-or-lambdas-in-a-loop-or-comprehension\n",
    "    This was the fix!!!\n",
    "    \"\"\"\n",
    "    def make_f(a, b, large_prime, num_buckets):\n",
    "        def f(x):\n",
    "            return ((a * x + b) % large_prime) % num_buckets\n",
    "        return f\n",
    "\n",
    "    num_buckets = 10000\n",
    "    large_prime = hash_params[2]\n",
    "    numHashes = len(hash_params[0])\n",
    "    hash_functions = []\n",
    "    for i in range(numHashes):\n",
    "        a = hash_params[0][i]\n",
    "        b = hash_params[1][i]\n",
    "        hash_function = make_f(a, b, large_prime, num_buckets)\n",
    "        hash_functions.append(hash_function)\n",
    "    return hash_functions\n",
    "\n",
    "\"\"\"\n",
    "Generate random hashes for minHash reduction\n",
    "\"\"\"\n",
    "def generateRandomHashParams():\n",
    "    numHashes = 2000\n",
    "    large_prime = 7919\n",
    "    hash_params = (np.random.randint(1, high = large_prime - 1, size = numHashes), np.random.randint(0, high = large_prime - 1, size = numHashes), large_prime)\n",
    "    return hash_params"
   ]
  },
  {
   "cell_type": "code",
   "execution_count": 20,
   "metadata": {},
   "outputs": [],
   "source": [
    "hash_params = generateRandomHashParams()\n",
    "hashes = buildHashes(hash_params)"
   ]
  },
  {
   "cell_type": "code",
   "execution_count": 21,
   "metadata": {},
   "outputs": [
    {
     "data": {
      "text/plain": [
       "(array([[ 4.,  4.,  4., ...,  4.,  4.,  4.],\n",
       "        [14., 14., 14., ..., 14., 14.,  9.],\n",
       "        [25., 25., 44., ..., 25., 25., 36.],\n",
       "        ...,\n",
       "        [ 7.,  7.,  7., ...,  7.,  7., 38.],\n",
       "        [26., 26., 26., ..., 26., 72., 26.],\n",
       "        [10.,  9.,  8., ...,  9.,  6.,  5.]]),\n",
       " (1000, 12))"
      ]
     },
     "execution_count": 21,
     "metadata": {},
     "output_type": "execute_result"
    }
   ],
   "source": [
    "n: int = len(seqs)\n",
    "numHashes = 1000\n",
    "\n",
    "signatureMatrix = minHashSignature(hashes, numHashes, n)\n",
    "signatureMatrix, signatureMatrix.shape"
   ]
  },
  {
   "cell_type": "code",
   "execution_count": 22,
   "metadata": {},
   "outputs": [
    {
     "data": {
      "image/png": "[encoded data removed]",
      "text/plain": [
       "<Figure size 640x480 with 1 Axes>"
      ]
     },
     "metadata": {},
     "output_type": "display_data"
    }
   ],
   "source": [
    "bandLength = 20\n",
    "\n",
    "adjacencyMatrix = band(signatureMatrix, numHashes, n, bandLength)\n",
    "plotAdjacencyMatrix(adjacencyMatrix, firstOcc, n)"
   ]
  },
  {
   "cell_type": "code",
   "execution_count": 23,
   "metadata": {},
   "outputs": [],
   "source": [
    "char_vector_length = 750 #len(characteristicVector)\n",
    "characteristic_matrix = np.zeros((750,n))\n",
    "kmer_dict = dict()\n",
    "for i in range(n):\n",
    "    characteristic_matrix[:, i], kmer_dict = getCharacteristicVector(i, kmer_dict)\n",
    "\n",
    "# This step is not performed in prediction. Shouldn't matter but noted!!\n",
    "trimmed_characteristic_matrix = characteristic_matrix[0:max(np.where(characteristic_matrix > 0)[0])+1, :]"
   ]
  },
  {
   "cell_type": "code",
   "execution_count": 24,
   "metadata": {},
   "outputs": [],
   "source": [
    "trimmed_characteristic_matrix.shape, signatureMatrix.shape\n",
    "approx_distances = []\n",
    "exact_distances = []\n",
    "for i in range(12 - 1):\n",
    "    for j in range(i + 1, 12):\n",
    "        approx_distances.append( approx_jaccard_distance(signatureMatrix[:,i], signatureMatrix[:,j]) )\n",
    "        exact_distances.append( jaccard_distance(trimmed_characteristic_matrix[:,i], trimmed_characteristic_matrix[:,j]) )"
   ]
  },
  {
   "cell_type": "code",
   "execution_count": 25,
   "metadata": {},
   "outputs": [
    {
     "data": {
      "image/png": "[encoded data removed]",
      "text/plain": [
       "<Figure size 640x480 with 1 Axes>"
      ]
     },
     "metadata": {},
     "output_type": "display_data"
    },
    {
     "name": "stdout",
     "output_type": "stream",
     "text": [
      "Real:\n",
      "min\t: 0.5747863247863247\n",
      "mean\t: 0.8157227663953364\n",
      "max\t: 1.0\n",
      "var\t: 0.010621749429749907\n",
      "\n",
      "Approx:\n",
      "min\t: 0.584\n",
      "mean\t: 0.7960757575757577\n",
      "max\t: 1.0\n",
      "var\t: 0.009773403351698805\n"
     ]
    }
   ],
   "source": [
    "plot_distances(exact_distances, approx_distances, \"jaccard\")"
   ]
  },
  {
   "cell_type": "markdown",
   "metadata": {},
   "source": [
    "## Test Length Adjacency Matrices"
   ]
  },
  {
   "cell_type": "code",
   "execution_count": 47,
   "metadata": {},
   "outputs": [],
   "source": [
    "length_dir = \"/data/wford/sv_merge/output/signatureMtxs_20bp/length/0,1\"\n",
    "\n",
    "length_files = []\n",
    "for length_file in os.listdir(length_dir):\n",
    "    length_files.append(os.path.join(length_dir, length_file))"
   ]
  },
  {
   "cell_type": "code",
   "execution_count": 53,
   "metadata": {},
   "outputs": [],
   "source": [
    "for i in range(0, 21, 5):\n",
    "    length_file = f\"/data/wford/sv_merge/output/signatureMtxs_20bp/length/{i},1/chr1_2348353-2350592.npy\"\n",
    "    adjacency_matrix = np.load(length_file)\n",
    "    #plotAdjacencyMatrix(adjacencyMatrix)"
   ]
  },
  {
   "cell_type": "code",
   "execution_count": 54,
   "metadata": {},
   "outputs": [],
   "source": [
    "for i in range(50, 501, 50):\n",
    "    length_file = f\"/data/wford/sv_merge/output/signatureMtxs_20bp/length/{i},0/chr8_42990798-42991559.npy\"\n",
    "    adjacency_matrix = np.load(length_file)\n",
    "    #plotAdjacencyMatrix(adjacencyMatrix)"
   ]
  },
  {
   "cell_type": "markdown",
   "metadata": {},
   "source": [
    "These all look the same. Something went very wrong here. Probably need a finer toothed come."
   ]
  },
  {
   "cell_type": "code",
   "execution_count": null,
   "metadata": {},
   "outputs": [],
   "source": []
  }
 ],
 "metadata": {
  "kernelspec": {
   "display_name": "workspace",
   "language": "python",
   "name": "python3"
  },
  "language_info": {
   "codemirror_mode": {
    "name": "ipython",
    "version": 3
   },
   "file_extension": ".py",
   "mimetype": "text/x-python",
   "name": "python",
   "nbconvert_exporter": "python",
   "pygments_lexer": "ipython3",
   "version": "3.12.3"
  }
 },
 "nbformat": 4,
 "nbformat_minor": 2
}
